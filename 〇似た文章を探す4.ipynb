{
  "nbformat": 4,
  "nbformat_minor": 0,
  "metadata": {
    "colab": {
      "name": "〇似た文章を探す4.ipynb",
      "provenance": [],
      "collapsed_sections": [],
      "include_colab_link": true
    },
    "kernelspec": {
      "display_name": "Python 3",
      "name": "python3"
    },
    "language_info": {
      "name": "python"
    }
  },
  "cells": [
    {
      "cell_type": "markdown",
      "metadata": {
        "id": "view-in-github",
        "colab_type": "text"
      },
      "source": [
        "<a href=\"https://colab.research.google.com/github/tokaieco/fluffy-octo-disco/blob/master/%E3%80%87%E4%BC%BC%E3%81%9F%E6%96%87%E7%AB%A0%E3%82%92%E6%8E%A2%E3%81%994.ipynb\" target=\"_parent\"><img src=\"https://colab.research.google.com/assets/colab-badge.svg\" alt=\"Open In Colab\"/></a>"
      ]
    },
    {
      "cell_type": "code",
      "metadata": {
        "colab": {
          "base_uri": "https://localhost:8080/"
        },
        "id": "8b9FDizAgxug",
        "outputId": "b8f2007d-4751-4624-e829-d3889258efbb"
      },
      "source": [
        "from google.colab import drive\n",
        "drive.mount('/content/drive')"
      ],
      "execution_count": 15,
      "outputs": [
        {
          "output_type": "stream",
          "text": [
            "Drive already mounted at /content/drive; to attempt to forcibly remount, call drive.mount(\"/content/drive\", force_remount=True).\n"
          ],
          "name": "stdout"
        }
      ]
    },
    {
      "cell_type": "code",
      "metadata": {
        "id": "zDOhIJC5iO0H"
      },
      "source": [
        "#!tar -jxvf\"/content/drive/MyDrive/Colab Notebooks/jawiki.doc2vec.dbow300d.tar.bz2\""
      ],
      "execution_count": 16,
      "outputs": []
    },
    {
      "cell_type": "markdown",
      "metadata": {
        "id": "FucNjdnpoOBa"
      },
      "source": [
        "#〇RAM不足クラッシュで進まない→展開後保存"
      ]
    },
    {
      "cell_type": "code",
      "metadata": {
        "id": "SyMVB4_pamF1"
      },
      "source": [
        "from gensim.models.doc2vec import Doc2Vec\n",
        "#model = Doc2Vec.load(\"jawiki.doc2vec.dbow300d.model\")\n",
        "#model = Doc2Vec.load(\"https://drive.google.com/file/d/1xLaBjCc0NPAjEyPF3rRtYLPEuW-HmsL3/view?usp=sharing/jawiki.doc2vec.dbow300d.model\")\n",
        "model = Doc2Vec.load(\"/content/drive/MyDrive/Colab Notebooks/data_ichiran/jawiki.doc2vec.dbow300d.model\")"
      ],
      "execution_count": null,
      "outputs": []
    },
    {
      "cell_type": "markdown",
      "metadata": {
        "id": "RIeFdKXUd8-h"
      },
      "source": [
        "# 新しいセクション"
      ]
    },
    {
      "cell_type": "code",
      "metadata": {
        "id": "M7jOGg8TTAg4"
      },
      "source": [
        "import os\n",
        "from glob import glob\n",
        "os.chdir('/content/drive/MyDrive/Colab Notebooks/data_ichiran')\n",
        "\n",
        "import linecache\n",
        "\n",
        "# 各テキストデータの３行目（タイトル）のみを取得\n",
        "#for text1 in files[0:10]:\n",
        "#    title = linecache.getline(text1, 3)\n",
        "#    print(title)\n",
        "\n",
        "text = []\n",
        "#家電チャンネル読み込み\n",
        "for file in glob('kaden-channel/*.txt'):\n",
        "    with open(file,encoding=\"utf-8\") as f:\n",
        "      f = f.readlines()[2:]\n",
        "      f = ''.join(f)\n",
        "    text.append(f)\n",
        "\n",
        "\n",
        "\n",
        "      #text.append(f.read())  \n",
        "      #text.append(f.readlines()[2:])\n",
        "\n",
        "        #text.append(f.split('\\n'))\n",
        "#text=text.split('\\n')\n",
        "#text=text[2:]\n",
        "\n",
        "#for file in glob('kaden-channel/*.txt'):\n",
        "#    text = linecache.getline(file,3)\n",
        "\n",
        "#for file in glob('kaden-channel/*.txt'):\n",
        "#    with open(file,encoding=\"utf-8\") as f: \n",
        "#      text.append(f.read())\n",
        "\n",
        "l_kaden = len(text)\n",
        "print('家電チャンネル記事数：',l_kaden)\n",
        "         \n",
        "#ITライフ読み込み\n",
        "for file in glob('it-life-hack/*.txt'):\n",
        "  with open(file,encoding=\"utf-8\") as f:\n",
        "    f = f.readlines()[2:]\n",
        "    f = ''.join(f)\n",
        "  text.append(f)  \n",
        "    #with open(file,encoding=\"utf-8\") as f:        \n",
        "        ##text.append([f.read()])\n",
        "        #text.append([f.read()[2:] ])\n",
        "        ##text = f.readlines()[2:]\n",
        "        ##text = '],['.join(text)    \n",
        " \n",
        "print('ITライフチャンネル記事数：',len(text)-l_kaden)\n"
      ],
      "execution_count": null,
      "outputs": []
    },
    {
      "cell_type": "code",
      "metadata": {
        "id": "nktrCxm4i8RS"
      },
      "source": [
        "text"
      ],
      "execution_count": null,
      "outputs": []
    },
    {
      "cell_type": "code",
      "metadata": {
        "id": "_S-x-AkdoGpF"
      },
      "source": [
        "type(text)"
      ],
      "execution_count": null,
      "outputs": []
    },
    {
      "cell_type": "code",
      "metadata": {
        "id": "g-HqjJARSkyX"
      },
      "source": [
        "documents=text"
      ],
      "execution_count": null,
      "outputs": []
    },
    {
      "cell_type": "code",
      "metadata": {
        "id": "a7G0TAt1NbvV"
      },
      "source": [
        "pip install janome"
      ],
      "execution_count": null,
      "outputs": []
    },
    {
      "cell_type": "markdown",
      "metadata": {
        "id": "FyB5t340MgQr"
      },
      "source": [
        "str object has no attribute infer_vector?"
      ]
    },
    {
      "cell_type": "code",
      "metadata": {
        "id": "dU_FpE4zGrGG"
      },
      "source": [
        "import pickle\n",
        "from janome.tokenizer import Tokenizer\n",
        "t = Tokenizer()\n",
        "def sep_by_janome(text):\n",
        "#  t = Tokenizer()  \n",
        "  for line in text:\n",
        "    tokens = t.tokenize(line)\n",
        "    docs=[]\n",
        "    for token in tokens:\n",
        "        docs.append(token.surface)\n",
        "    return docs\n",
        "document_vecs=[]\n",
        "for d in documents:\n",
        "  document_vecs.append(model.infer_vector(sep_by_janome(d))) \n",
        "\n",
        " \n",
        "\n",
        "#with open('ml_model.pickle', 'wb') as f:\n",
        "#with open('ml_model.pkl', 'wb') as f:\n",
        "#with open('ml_model.pkl', 'w') as f:\n",
        "#  pickle.dump('ml_model', f)"
      ],
      "execution_count": null,
      "outputs": []
    },
    {
      "cell_type": "code",
      "metadata": {
        "id": "t-ZSaENHevFP"
      },
      "source": [
        "document_vecs"
      ],
      "execution_count": null,
      "outputs": []
    },
    {
      "cell_type": "code",
      "metadata": {
        "id": "bOlBwdv9eRDn"
      },
      "source": [
        "import pickle\n",
        "with open(\"document_vecs.pkl\", \"wb\") as f:\n",
        "    pickle.dump(document_vecs, f) #保存"
      ],
      "execution_count": null,
      "outputs": []
    },
    {
      "cell_type": "code",
      "metadata": {
        "id": "7ImvCndTedF3"
      },
      "source": [
        "with open(\"document_vecs.pkl\", \"rb\") as f:\n",
        "    document_vecs = pickle.load(f) #読み出し\n",
        "document_vecs"
      ],
      "execution_count": null,
      "outputs": []
    },
    {
      "cell_type": "code",
      "metadata": {
        "id": "Skso49tOTn9-"
      },
      "source": [
        "class Circle:\n",
        "  def __init__(self, radius):\n",
        "    # インスタンス変数に値を代入\n",
        "    self.radius = radius\n",
        " \n",
        "  # 関数を定義\n",
        "  def area(self):\n",
        "    return radius * radius * 3.14\n",
        "\n",
        "radius = 10\n",
        "# インスタンスの生成\n",
        "circle = Circle(radius)\n",
        "\n",
        "print(\"円の半径:\", radius)\n",
        "print(\"円の面積:\", circle.area())"
      ],
      "execution_count": null,
      "outputs": []
    },
    {
      "cell_type": "markdown",
      "metadata": {
        "id": "t2C52mAoiE2F"
      },
      "source": [
        "AttributeError: 'str' object has no attribute 'infer_vector'?"
      ]
    },
    {
      "cell_type": "code",
      "metadata": {
        "id": "Nk453NsaWJkk"
      },
      "source": [
        "#class Circle:\n",
        "#  def __init__(self, text):\n",
        "    # インスタンス変数に値を代入\n",
        "#    self.text = text\n",
        " \n",
        "  # 関数を定義\n",
        "#  def input_vec(self):\n",
        "#    return  model.infer_vector(sep_by_janome(text))\n",
        "#  def tokens(self):\n",
        "#    return sep_by_janome(text)\n",
        "\n",
        "#    tokens =['あの', '日', 'の', '悲しみ']\n",
        "#  def input_vec(self):\n",
        "#    return model.infer_vector(tokens)\n",
        "\n",
        "#text = 'パソコン'\n",
        "# インスタンスの生成\n",
        "#circle = Circle(text)\n",
        "\n",
        "#print(\"円の半径:\", text)\n",
        "#print(\"円の面積:\", circle.input_vec())\n",
        "\n",
        "#tokens = sep_by_janome(text)\n",
        "#input_vec = model.infer_vector(tokens)"
      ],
      "execution_count": null,
      "outputs": []
    },
    {
      "cell_type": "markdown",
      "metadata": {
        "id": "KZQCsepoU_qS"
      },
      "source": [
        "NameError: name 'infer_vector' is not defined"
      ]
    },
    {
      "cell_type": "code",
      "metadata": {
        "id": "ZEri2FJhKMlK"
      },
      "source": [
        "#type(infer_vector)"
      ],
      "execution_count": null,
      "outputs": []
    },
    {
      "cell_type": "markdown",
      "metadata": {
        "id": "et08X7vbStkL"
      },
      "source": [
        "#pkl保存"
      ]
    },
    {
      "cell_type": "markdown",
      "metadata": {
        "id": "4u9vGdo-tE-4"
      },
      "source": [
        "#〇pickle→pkl保存可→pickle.dump('ml_model', f)→pt?\n",
        "\n",
        "> インデントされたブロック\n",
        "\n"
      ]
    },
    {
      "cell_type": "markdown",
      "metadata": {
        "id": "wjC0c74JYVzs"
      },
      "source": [
        "追加するとinfer_vectorでエラーが出る。'str' object has no attribute 'infer_vector'?"
      ]
    },
    {
      "cell_type": "code",
      "metadata": {
        "id": "iq4RHtUV7VkA"
      },
      "source": [
        "#import pickle\n",
        "#with open('document_vecs.pickle', 'wb') as f:\n",
        "#    pickle.dump(document_vecs, f)"
      ],
      "execution_count": null,
      "outputs": []
    },
    {
      "cell_type": "code",
      "metadata": {
        "id": "3G1MET6_7bqT"
      },
      "source": [
        "#with open('document_vecs.pickle', 'rb') as f:\n",
        "#    document_vecs = pickle.load(f)\n",
        "\n",
        "#print(document_vecs)\n",
        "#pickle_accuracy = document_vecs.fit(text)\n",
        "#document_vecs=pickle_accuracy"
      ],
      "execution_count": null,
      "outputs": []
    },
    {
      "cell_type": "markdown",
      "metadata": {
        "id": "LPR1ULXJaR5i"
      },
      "source": [
        "\n",
        "wb→w:TypeError: write() argument must be str, not bytes"
      ]
    },
    {
      "cell_type": "code",
      "metadata": {
        "id": "c2j_zhXOVqel"
      },
      "source": [
        "#import pickle\n",
        "\n",
        "#with open('ml_model.pkl', 'wb') as f:\n",
        "\n",
        "#  pickle.dump('ml_model', f)"
      ],
      "execution_count": null,
      "outputs": []
    },
    {
      "cell_type": "code",
      "metadata": {
        "id": "aepC2h4xnXmH"
      },
      "source": [
        "#with open('ml_model.pkl', 'rb') as f:\n",
        "  \n",
        "#  model = pickle.load(f)\n",
        "#print(model)"
      ],
      "execution_count": null,
      "outputs": []
    },
    {
      "cell_type": "code",
      "metadata": {
        "id": "SfSkqUdi0kc7"
      },
      "source": [
        "#import pickle\n",
        "#import io\n",
        "#file = io.BytesIO()\n",
        "#pickle.dump('ml_model', file)\n",
        "#file.seek(0)\n",
        "\n",
        "#pickle.load(file)"
      ],
      "execution_count": null,
      "outputs": []
    },
    {
      "cell_type": "code",
      "metadata": {
        "id": "6AOuhUZ6CTYN"
      },
      "source": [
        "#import pickle\n",
        " \n",
        "#a = [1, 2, 3]  # 保存対象\n",
        " \n",
        "# バイナリ書き込みでファイルを開く\n",
        "#with open('a.pickle', mode='wb') as wh:\n",
        "#    pickle.dump(a, wh)\n",
        " \n",
        "# バイナリ読み込みでファイルを開く\n",
        "#with open('a.pickle', mode='rb') as rh:\n",
        "#    a = pickle.load(rh)\n",
        " \n",
        "#print(a)"
      ],
      "execution_count": null,
      "outputs": []
    },
    {
      "cell_type": "code",
      "metadata": {
        "id": "coKs8SYtChDk"
      },
      "source": [
        "#type(line)"
      ],
      "execution_count": null,
      "outputs": []
    },
    {
      "cell_type": "markdown",
      "metadata": {
        "id": "PWebpIG1PJyF"
      },
      "source": [
        "list"
      ]
    },
    {
      "cell_type": "code",
      "metadata": {
        "id": "7NkUW9IjatJr"
      },
      "source": [
        "type(text)\n"
      ],
      "execution_count": null,
      "outputs": []
    },
    {
      "cell_type": "markdown",
      "metadata": {
        "id": "C0ELBOylxxVC"
      },
      "source": [
        "#django?"
      ]
    },
    {
      "cell_type": "code",
      "metadata": {
        "id": "J_9IU0G0dmc0"
      },
      "source": [
        "with open('/content/drive/MyDrive/Colab Notebooks/data_ichiran/it-life-hack/it-life-hack-6292880.txt','r',encoding='utf-8') as f:\n",
        "  text = f.readlines()[2:]\n",
        "  text = ''.join(text)"
      ],
      "execution_count": null,
      "outputs": []
    },
    {
      "cell_type": "code",
      "metadata": {
        "id": "UwzVnKEreC5C"
      },
      "source": [
        "text"
      ],
      "execution_count": null,
      "outputs": []
    },
    {
      "cell_type": "markdown",
      "metadata": {
        "id": "Ji-s-IHrPEnd"
      },
      "source": [
        "str"
      ]
    },
    {
      "cell_type": "code",
      "metadata": {
        "id": "P8BJkk4AqR-A"
      },
      "source": [
        "type(text)"
      ],
      "execution_count": null,
      "outputs": []
    },
    {
      "cell_type": "markdown",
      "metadata": {
        "id": "5-tZkL9V3g9w"
      },
      "source": [
        "私は㏋社のノートPC　PAVILIONを使っています。メモリは8GBです。"
      ]
    },
    {
      "cell_type": "code",
      "metadata": {
        "id": "1AKBi9i_37tQ"
      },
      "source": [
        "text='私は㏋社のノートPC　PAVILIONを使っています。メモリは8GBです。'\n",
        "#text=['あの', '日', 'の', '悲しみ']"
      ],
      "execution_count": null,
      "outputs": []
    },
    {
      "cell_type": "code",
      "metadata": {
        "id": "V_6FKBI237X4"
      },
      "source": [
        "text"
      ],
      "execution_count": null,
      "outputs": []
    },
    {
      "cell_type": "markdown",
      "metadata": {
        "id": "AmZvVgvLOtjw"
      },
      "source": [
        "str"
      ]
    },
    {
      "cell_type": "code",
      "metadata": {
        "id": "3c9Ervfg1758"
      },
      "source": [
        "type(text)"
      ],
      "execution_count": null,
      "outputs": []
    },
    {
      "cell_type": "markdown",
      "metadata": {
        "id": "XlFAzMOfPZYZ"
      },
      "source": [
        "#ジャンゴで描く→views.py?"
      ]
    },
    {
      "cell_type": "markdown",
      "metadata": {
        "id": "TQgicAzNz578"
      },
      "source": [
        "コサイン類似度"
      ]
    },
    {
      "cell_type": "markdown",
      "metadata": {
        "id": "6pedgUmoXXu8"
      },
      "source": [
        " 'str' object has no attribute 'infer_vector'?"
      ]
    },
    {
      "cell_type": "code",
      "metadata": {
        "id": "hJc39g9Maflx"
      },
      "source": [
        "pip list"
      ],
      "execution_count": null,
      "outputs": []
    },
    {
      "cell_type": "code",
      "metadata": {
        "id": "uNj0ythuOleA"
      },
      "source": [
        "#def infer_vector(self, doc_words, alpha=None, min_alpha=None, epochs=None, steps=None):"
      ],
      "execution_count": null,
      "outputs": []
    },
    {
      "cell_type": "code",
      "metadata": {
        "id": "PNKlRdmpQez8"
      },
      "source": [
        "#from gensim.models.doc2vec import Doc2Vec"
      ],
      "execution_count": null,
      "outputs": []
    },
    {
      "cell_type": "code",
      "metadata": {
        "id": "vA0UFpO-z0rc"
      },
      "source": [
        "tokens = sep_by_janome(text)\n",
        "input_vec = model.infer_vector(tokens)"
      ],
      "execution_count": null,
      "outputs": []
    },
    {
      "cell_type": "code",
      "metadata": {
        "id": "oQscvpdPcdS_"
      },
      "source": [
        "#dir(infer_vector)"
      ],
      "execution_count": null,
      "outputs": []
    },
    {
      "cell_type": "code",
      "metadata": {
        "id": "YFFwBr73cZjY"
      },
      "source": [
        ""
      ],
      "execution_count": null,
      "outputs": []
    },
    {
      "cell_type": "markdown",
      "metadata": {
        "id": "ojwWlQnx6ISz"
      },
      "source": [
        ""
      ]
    },
    {
      "cell_type": "code",
      "metadata": {
        "id": "C8rxkm5Zz-Kd"
      },
      "source": [
        "#コサイン類似度の計算＋ランキング化\n",
        "import numpy as np\n",
        "rank_size = 5\n",
        " \n",
        "v1 = np.linalg.norm(input_vec)\n",
        "cos_sim = []\n",
        "for v2 in document_vecs:\n",
        "    cos_sim.append( np.dot(input_vec,v2)/(v1*np.linalg.norm(v2)) )\n",
        "doc_sort = np.argsort(np.array(cos_sim))[::-1]\n",
        "cos_sort = sorted(cos_sim,reverse=True)\n",
        " \n",
        "for i in range(rank_size):\n",
        "  print(cos_sort[i])\n",
        "  print(documents[doc_sort[i]])"
      ],
      "execution_count": null,
      "outputs": []
    }
  ]
}